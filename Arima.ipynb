{
 "cells": [
  {
   "cell_type": "code",
   "execution_count": 1,
   "id": "8bcf8e10",
   "metadata": {},
   "outputs": [],
   "source": [
    "import pandas as pd\n",
    "import numpy as np\n",
    "import datetime\n",
    "import matplotlib.pyplot as plt\n",
    "import seaborn as sns\n"
   ]
  },
  {
   "cell_type": "code",
   "execution_count": 4,
   "id": "64227b90",
   "metadata": {},
   "outputs": [
    {
     "data": {
      "text/html": [
       "<div>\n",
       "<style scoped>\n",
       "    .dataframe tbody tr th:only-of-type {\n",
       "        vertical-align: middle;\n",
       "    }\n",
       "\n",
       "    .dataframe tbody tr th {\n",
       "        vertical-align: top;\n",
       "    }\n",
       "\n",
       "    .dataframe thead th {\n",
       "        text-align: right;\n",
       "    }\n",
       "</style>\n",
       "<table border=\"1\" class=\"dataframe\">\n",
       "  <thead>\n",
       "    <tr style=\"text-align: right;\">\n",
       "      <th></th>\n",
       "      <th>HCHO Reading</th>\n",
       "      <th>Location</th>\n",
       "      <th>Current Date</th>\n",
       "      <th>Next Date</th>\n",
       "    </tr>\n",
       "  </thead>\n",
       "  <tbody>\n",
       "    <tr>\n",
       "      <th>0</th>\n",
       "      <td>0.000197</td>\n",
       "      <td>Colombo</td>\n",
       "      <td>2019-01-01</td>\n",
       "      <td>2019-01-02</td>\n",
       "    </tr>\n",
       "    <tr>\n",
       "      <th>1</th>\n",
       "      <td>0.000197</td>\n",
       "      <td>Deniyaya, Matara</td>\n",
       "      <td>2019-01-01</td>\n",
       "      <td>2019-01-02</td>\n",
       "    </tr>\n",
       "    <tr>\n",
       "      <th>2</th>\n",
       "      <td>0.000263</td>\n",
       "      <td>Nuwara Eliya</td>\n",
       "      <td>2019-01-01</td>\n",
       "      <td>2019-01-02</td>\n",
       "    </tr>\n",
       "    <tr>\n",
       "      <th>3</th>\n",
       "      <td>0.000263</td>\n",
       "      <td>Colombo</td>\n",
       "      <td>2019-01-02</td>\n",
       "      <td>2019-01-03</td>\n",
       "    </tr>\n",
       "    <tr>\n",
       "      <th>4</th>\n",
       "      <td>0.000006</td>\n",
       "      <td>Deniyaya, Matara</td>\n",
       "      <td>2019-01-02</td>\n",
       "      <td>2019-01-03</td>\n",
       "    </tr>\n",
       "    <tr>\n",
       "      <th>...</th>\n",
       "      <td>...</td>\n",
       "      <td>...</td>\n",
       "      <td>...</td>\n",
       "      <td>...</td>\n",
       "    </tr>\n",
       "    <tr>\n",
       "      <th>12777</th>\n",
       "      <td>0.000158</td>\n",
       "      <td>Kurunegala</td>\n",
       "      <td>2023-12-30</td>\n",
       "      <td>2023-12-31</td>\n",
       "    </tr>\n",
       "    <tr>\n",
       "      <th>12778</th>\n",
       "      <td>0.000117</td>\n",
       "      <td>Jaffna</td>\n",
       "      <td>2023-12-30</td>\n",
       "      <td>2023-12-31</td>\n",
       "    </tr>\n",
       "    <tr>\n",
       "      <th>12779</th>\n",
       "      <td>0.000117</td>\n",
       "      <td>Bibile, Monaragala</td>\n",
       "      <td>2023-12-31</td>\n",
       "      <td>2024-01-01</td>\n",
       "    </tr>\n",
       "    <tr>\n",
       "      <th>12780</th>\n",
       "      <td>0.000065</td>\n",
       "      <td>Kurunegala</td>\n",
       "      <td>2023-12-31</td>\n",
       "      <td>2024-01-01</td>\n",
       "    </tr>\n",
       "    <tr>\n",
       "      <th>12781</th>\n",
       "      <td>0.000065</td>\n",
       "      <td>Jaffna</td>\n",
       "      <td>2023-12-31</td>\n",
       "      <td>2024-01-01</td>\n",
       "    </tr>\n",
       "  </tbody>\n",
       "</table>\n",
       "<p>12782 rows × 4 columns</p>\n",
       "</div>"
      ],
      "text/plain": [
       "       HCHO Reading            Location Current Date   Next Date\n",
       "0          0.000197             Colombo   2019-01-01  2019-01-02\n",
       "1          0.000197    Deniyaya, Matara   2019-01-01  2019-01-02\n",
       "2          0.000263        Nuwara Eliya   2019-01-01  2019-01-02\n",
       "3          0.000263             Colombo   2019-01-02  2019-01-03\n",
       "4          0.000006    Deniyaya, Matara   2019-01-02  2019-01-03\n",
       "...             ...                 ...          ...         ...\n",
       "12777      0.000158          Kurunegala   2023-12-30  2023-12-31\n",
       "12778      0.000117              Jaffna   2023-12-30  2023-12-31\n",
       "12779      0.000117  Bibile, Monaragala   2023-12-31  2024-01-01\n",
       "12780      0.000065          Kurunegala   2023-12-31  2024-01-01\n",
       "12781      0.000065              Jaffna   2023-12-31  2024-01-01\n",
       "\n",
       "[12782 rows x 4 columns]"
      ]
     },
     "execution_count": 4,
     "metadata": {},
     "output_type": "execute_result"
    }
   ],
   "source": [
    "concatenated_df = pd.read_csv('C:/Users/MSI KATANA/Desktop/practice ML/data engineering cw by inupa B/Data-Engineering-HCHO-gas-prediction-/concatenated_data.csv')\n",
    "concatenated_df"
   ]
  },
  {
   "cell_type": "code",
   "execution_count": 5,
   "id": "14ec6e33",
   "metadata": {},
   "outputs": [
    {
     "name": "stdout",
     "output_type": "stream",
     "text": [
      "ADF Statistic: -11.898220\n",
      "p-value: 0.000000\n",
      "Critical Values:\n",
      "\t1%: -3.431\n",
      "\t5%: -2.862\n",
      "\t10%: -2.567\n",
      "The series is likely stationary.\n"
     ]
    }
   ],
   "source": [
    "from statsmodels.tsa.stattools import adfuller\n",
    "\n",
    "# Perform the Augmented Dickey-Fuller test\n",
    "adf_test = adfuller(concatenated_df['HCHO Reading'])\n",
    "\n",
    "print('ADF Statistic: %f' % adf_test[0])\n",
    "print('p-value: %f' % adf_test[1])\n",
    "print('Critical Values:')\n",
    "for key, value in adf_test[4].items():\n",
    "    print('\\t%s: %.3f' % (key, value))\n",
    "\n",
    "# Based on the p-value, decide on stationarity\n",
    "if adf_test[1] > 0.05:\n",
    "    print(\"The series is likely non-stationary and may need differencing.\")\n",
    "else:\n",
    "    print(\"The series is likely stationary.\")"
   ]
  },
  {
   "cell_type": "code",
   "execution_count": 6,
   "id": "778c9dfb",
   "metadata": {},
   "outputs": [
    {
     "data": {
      "text/plain": [
       "(              HCHO Reading          Location   Next Date\n",
       " Current Date                                            \n",
       " 2019-01-01        0.000197           Colombo  2019-01-02\n",
       " 2019-01-01        0.000197  Deniyaya, Matara  2019-01-02\n",
       " 2019-01-01        0.000263      Nuwara Eliya  2019-01-02\n",
       " 2019-01-02        0.000263           Colombo  2019-01-03\n",
       " 2019-01-02        0.000006  Deniyaya, Matara  2019-01-03,\n",
       " DatetimeIndex(['2019-01-01', '2019-01-01', '2019-01-01', '2019-01-02',\n",
       "                '2019-01-02', '2019-01-02', '2019-01-03', '2019-01-03',\n",
       "                '2019-01-03', '2019-01-04',\n",
       "                ...\n",
       "                '2023-12-28', '2023-12-29', '2023-12-29', '2023-12-29',\n",
       "                '2023-12-30', '2023-12-30', '2023-12-30', '2023-12-31',\n",
       "                '2023-12-31', '2023-12-31'],\n",
       "               dtype='datetime64[ns]', name='Current Date', length=12782, freq=None))"
      ]
     },
     "execution_count": 6,
     "metadata": {},
     "output_type": "execute_result"
    }
   ],
   "source": [
    "# Convert 'Current Date' to datetime and set as index\n",
    "concatenated_df['Current Date'] = pd.to_datetime(concatenated_df['Current Date'])\n",
    "concatenated_df.set_index('Current Date', inplace=True)\n",
    "\n",
    "# Output the first few rows and the index to verify changes\n",
    "df_head_after = concatenated_df.head()\n",
    "df_index_info = concatenated_df.index\n",
    "\n",
    "df_head_after, df_index_info"
   ]
  },
  {
   "cell_type": "code",
   "execution_count": 7,
   "id": "ca0ee571",
   "metadata": {},
   "outputs": [
    {
     "name": "stdout",
     "output_type": "stream",
     "text": [
      "ADF Statistic: -4.643981930882711\n",
      "p-value: 0.00010709010569367779\n"
     ]
    }
   ],
   "source": [
    "from statsmodels.tsa.stattools import adfuller\n",
    "\n",
    "# Running ADF test on the 'HCHO Reading' of one of the locations\n",
    "result = adfuller(concatenated_df[concatenated_df['Location'] == 'Colombo']['HCHO Reading'])\n",
    "print(f'ADF Statistic: {result[0]}')\n",
    "print(f'p-value: {result[1]}')"
   ]
  },
  {
   "cell_type": "code",
   "execution_count": 8,
   "id": "b4a5bcbc",
   "metadata": {},
   "outputs": [],
   "source": [
    "# Selecting the data for the model\n",
    "colombo_data = concatenated_df[concatenated_df['Location'] == 'Colombo']['HCHO Reading']"
   ]
  },
  {
   "cell_type": "code",
   "execution_count": 9,
   "id": "17a98e1d",
   "metadata": {},
   "outputs": [
    {
     "name": "stderr",
     "output_type": "stream",
     "text": [
      "C:\\Users\\MSI KATANA\\anaconda3\\Lib\\site-packages\\statsmodels\\tsa\\base\\tsa_model.py:473: ValueWarning: No frequency information was provided, so inferred frequency D will be used.\n",
      "  self._init_dates(dates, freq)\n",
      "C:\\Users\\MSI KATANA\\anaconda3\\Lib\\site-packages\\statsmodels\\tsa\\base\\tsa_model.py:473: ValueWarning: No frequency information was provided, so inferred frequency D will be used.\n",
      "  self._init_dates(dates, freq)\n",
      "C:\\Users\\MSI KATANA\\anaconda3\\Lib\\site-packages\\statsmodels\\tsa\\base\\tsa_model.py:473: ValueWarning: No frequency information was provided, so inferred frequency D will be used.\n",
      "  self._init_dates(dates, freq)\n",
      "C:\\Users\\MSI KATANA\\anaconda3\\Lib\\site-packages\\statsmodels\\base\\model.py:607: ConvergenceWarning: Maximum Likelihood optimization failed to converge. Check mle_retvals\n",
      "  warnings.warn(\"Maximum Likelihood optimization failed to \"\n"
     ]
    },
    {
     "data": {
      "text/html": [
       "<table class=\"simpletable\">\n",
       "<caption>SARIMAX Results</caption>\n",
       "<tr>\n",
       "  <th>Dep. Variable:</th>     <td>HCHO Reading</td>   <th>  No. Observations:  </th>    <td>1826</td>   \n",
       "</tr>\n",
       "<tr>\n",
       "  <th>Model:</th>            <td>ARIMA(1, 0, 1)</td>  <th>  Log Likelihood     </th>  <td>14455.002</td>\n",
       "</tr>\n",
       "<tr>\n",
       "  <th>Date:</th>            <td>Mon, 15 Apr 2024</td> <th>  AIC                </th> <td>-28902.003</td>\n",
       "</tr>\n",
       "<tr>\n",
       "  <th>Time:</th>                <td>21:25:30</td>     <th>  BIC                </th> <td>-28879.964</td>\n",
       "</tr>\n",
       "<tr>\n",
       "  <th>Sample:</th>             <td>01-01-2019</td>    <th>  HQIC               </th> <td>-28893.874</td>\n",
       "</tr>\n",
       "<tr>\n",
       "  <th></th>                   <td>- 12-31-2023</td>   <th>                     </th>      <td> </td>    \n",
       "</tr>\n",
       "<tr>\n",
       "  <th>Covariance Type:</th>        <td>opg</td>       <th>                     </th>      <td> </td>    \n",
       "</tr>\n",
       "</table>\n",
       "<table class=\"simpletable\">\n",
       "<tr>\n",
       "     <td></td>       <th>coef</th>     <th>std err</th>      <th>z</th>      <th>P>|z|</th>  <th>[0.025</th>    <th>0.975]</th>  \n",
       "</tr>\n",
       "<tr>\n",
       "  <th>const</th>  <td>    0.0001</td> <td> 6.27e-06</td> <td>   22.743</td> <td> 0.000</td> <td>    0.000</td> <td>    0.000</td>\n",
       "</tr>\n",
       "<tr>\n",
       "  <th>ar.L1</th>  <td>    0.8615</td> <td> 2.22e-10</td> <td> 3.88e+09</td> <td> 0.000</td> <td>    0.862</td> <td>    0.862</td>\n",
       "</tr>\n",
       "<tr>\n",
       "  <th>ma.L1</th>  <td>   -0.5757</td> <td> 8.36e-11</td> <td>-6.89e+09</td> <td> 0.000</td> <td>   -0.576</td> <td>   -0.576</td>\n",
       "</tr>\n",
       "<tr>\n",
       "  <th>sigma2</th> <td> 7.716e-09</td> <td> 2.37e-10</td> <td>   32.586</td> <td> 0.000</td> <td> 7.25e-09</td> <td> 8.18e-09</td>\n",
       "</tr>\n",
       "</table>\n",
       "<table class=\"simpletable\">\n",
       "<tr>\n",
       "  <th>Ljung-Box (L1) (Q):</th>     <td>1.01</td> <th>  Jarque-Bera (JB):  </th> <td>17.73</td>\n",
       "</tr>\n",
       "<tr>\n",
       "  <th>Prob(Q):</th>                <td>0.32</td> <th>  Prob(JB):          </th> <td>0.00</td> \n",
       "</tr>\n",
       "<tr>\n",
       "  <th>Heteroskedasticity (H):</th> <td>0.90</td> <th>  Skew:              </th> <td>0.07</td> \n",
       "</tr>\n",
       "<tr>\n",
       "  <th>Prob(H) (two-sided):</th>    <td>0.18</td> <th>  Kurtosis:          </th> <td>3.46</td> \n",
       "</tr>\n",
       "</table><br/><br/>Warnings:<br/>[1] Covariance matrix calculated using the outer product of gradients (complex-step).<br/>[2] Covariance matrix is singular or near-singular, with condition number 3.04e+25. Standard errors may be unstable."
      ],
      "text/latex": [
       "\\begin{center}\n",
       "\\begin{tabular}{lclc}\n",
       "\\toprule\n",
       "\\textbf{Dep. Variable:}          &   HCHO Reading   & \\textbf{  No. Observations:  } &    1826     \\\\\n",
       "\\textbf{Model:}                  &  ARIMA(1, 0, 1)  & \\textbf{  Log Likelihood     } & 14455.002   \\\\\n",
       "\\textbf{Date:}                   & Mon, 15 Apr 2024 & \\textbf{  AIC                } & -28902.003  \\\\\n",
       "\\textbf{Time:}                   &     21:25:30     & \\textbf{  BIC                } & -28879.964  \\\\\n",
       "\\textbf{Sample:}                 &    01-01-2019    & \\textbf{  HQIC               } & -28893.874  \\\\\n",
       "\\textbf{}                        &   - 12-31-2023   & \\textbf{                     } &             \\\\\n",
       "\\textbf{Covariance Type:}        &       opg        & \\textbf{                     } &             \\\\\n",
       "\\bottomrule\n",
       "\\end{tabular}\n",
       "\\begin{tabular}{lcccccc}\n",
       "                & \\textbf{coef} & \\textbf{std err} & \\textbf{z} & \\textbf{P$> |$z$|$} & \\textbf{[0.025} & \\textbf{0.975]}  \\\\\n",
       "\\midrule\n",
       "\\textbf{const}  &       0.0001  &     6.27e-06     &    22.743  &         0.000        &        0.000    &        0.000     \\\\\n",
       "\\textbf{ar.L1}  &       0.8615  &     2.22e-10     &  3.88e+09  &         0.000        &        0.862    &        0.862     \\\\\n",
       "\\textbf{ma.L1}  &      -0.5757  &     8.36e-11     & -6.89e+09  &         0.000        &       -0.576    &       -0.576     \\\\\n",
       "\\textbf{sigma2} &    7.716e-09  &     2.37e-10     &    32.586  &         0.000        &     7.25e-09    &     8.18e-09     \\\\\n",
       "\\bottomrule\n",
       "\\end{tabular}\n",
       "\\begin{tabular}{lclc}\n",
       "\\textbf{Ljung-Box (L1) (Q):}     & 1.01 & \\textbf{  Jarque-Bera (JB):  } & 17.73  \\\\\n",
       "\\textbf{Prob(Q):}                & 0.32 & \\textbf{  Prob(JB):          } &  0.00  \\\\\n",
       "\\textbf{Heteroskedasticity (H):} & 0.90 & \\textbf{  Skew:              } &  0.07  \\\\\n",
       "\\textbf{Prob(H) (two-sided):}    & 0.18 & \\textbf{  Kurtosis:          } &  3.46  \\\\\n",
       "\\bottomrule\n",
       "\\end{tabular}\n",
       "%\\caption{SARIMAX Results}\n",
       "\\end{center}\n",
       "\n",
       "Warnings: \\newline\n",
       " [1] Covariance matrix calculated using the outer product of gradients (complex-step). \\newline\n",
       " [2] Covariance matrix is singular or near-singular, with condition number 3.04e+25. Standard errors may be unstable."
      ],
      "text/plain": [
       "<class 'statsmodels.iolib.summary.Summary'>\n",
       "\"\"\"\n",
       "                               SARIMAX Results                                \n",
       "==============================================================================\n",
       "Dep. Variable:           HCHO Reading   No. Observations:                 1826\n",
       "Model:                 ARIMA(1, 0, 1)   Log Likelihood               14455.002\n",
       "Date:                Mon, 15 Apr 2024   AIC                         -28902.003\n",
       "Time:                        21:25:30   BIC                         -28879.964\n",
       "Sample:                    01-01-2019   HQIC                        -28893.874\n",
       "                         - 12-31-2023                                         \n",
       "Covariance Type:                  opg                                         \n",
       "==============================================================================\n",
       "                 coef    std err          z      P>|z|      [0.025      0.975]\n",
       "------------------------------------------------------------------------------\n",
       "const          0.0001   6.27e-06     22.743      0.000       0.000       0.000\n",
       "ar.L1          0.8615   2.22e-10   3.88e+09      0.000       0.862       0.862\n",
       "ma.L1         -0.5757   8.36e-11  -6.89e+09      0.000      -0.576      -0.576\n",
       "sigma2      7.716e-09   2.37e-10     32.586      0.000    7.25e-09    8.18e-09\n",
       "===================================================================================\n",
       "Ljung-Box (L1) (Q):                   1.01   Jarque-Bera (JB):                17.73\n",
       "Prob(Q):                              0.32   Prob(JB):                         0.00\n",
       "Heteroskedasticity (H):               0.90   Skew:                             0.07\n",
       "Prob(H) (two-sided):                  0.18   Kurtosis:                         3.46\n",
       "===================================================================================\n",
       "\n",
       "Warnings:\n",
       "[1] Covariance matrix calculated using the outer product of gradients (complex-step).\n",
       "[2] Covariance matrix is singular or near-singular, with condition number 3.04e+25. Standard errors may be unstable.\n",
       "\"\"\""
      ]
     },
     "execution_count": 9,
     "metadata": {},
     "output_type": "execute_result"
    }
   ],
   "source": [
    "from statsmodels.tsa.arima.model import ARIMA\n",
    "\n",
    "\n",
    "# Fit the ARIMA model\n",
    "arima_model = ARIMA(colombo_data, order=(1, 0, 1))\n",
    "arima_result = arima_model.fit()\n",
    "\n",
    "# Print out the summary of the model\n",
    "model_summary = arima_result.summary()\n",
    "\n",
    "# Display the model summary\n",
    "model_summary"
   ]
  },
  {
   "cell_type": "code",
   "execution_count": 10,
   "id": "bdc522a8",
   "metadata": {},
   "outputs": [
    {
     "data": {
      "text/plain": [
       "2024-01-01    0.000129\n",
       "2024-01-02    0.000131\n",
       "2024-01-03    0.000133\n",
       "2024-01-04    0.000134\n",
       "2024-01-05    0.000135\n",
       "2024-01-06    0.000136\n",
       "2024-01-07    0.000137\n",
       "2024-01-08    0.000138\n",
       "2024-01-09    0.000139\n",
       "2024-01-10    0.000139\n",
       "Freq: D, Name: predicted_mean, dtype: float64"
      ]
     },
     "execution_count": 10,
     "metadata": {},
     "output_type": "execute_result"
    }
   ],
   "source": [
    "# Forecasting the next 10 periods\n",
    "forecast = arima_result.forecast(steps=10)\n",
    "forecast"
   ]
  },
  {
   "cell_type": "code",
   "execution_count": null,
   "id": "8e3c194d",
   "metadata": {},
   "outputs": [],
   "source": []
  }
 ],
 "metadata": {
  "kernelspec": {
   "display_name": "Python 3 (ipykernel)",
   "language": "python",
   "name": "python3"
  },
  "language_info": {
   "codemirror_mode": {
    "name": "ipython",
    "version": 3
   },
   "file_extension": ".py",
   "mimetype": "text/x-python",
   "name": "python",
   "nbconvert_exporter": "python",
   "pygments_lexer": "ipython3",
   "version": "3.11.5"
  }
 },
 "nbformat": 4,
 "nbformat_minor": 5
}
